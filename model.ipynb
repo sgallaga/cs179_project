{
 "cells": [
  {
   "cell_type": "code",
   "execution_count": null,
   "id": "56006570-18af-48ad-889d-58442d23089a",
   "metadata": {},
   "outputs": [],
   "source": [
    "import numpy as np\n",
    "\n",
    "\n",
    "# Use keyword heuristics to define latent variables (instead of LDA)\n"
   ]
  },
  {
   "cell_type": "code",
   "execution_count": null,
   "id": "1abc7691-f80f-4e1f-a26e-1319512f7b96",
   "metadata": {},
   "outputs": [],
   "source": [
    "# Use Bayes-Net model to determine variable with highest delta (makes the difference for review)"
   ]
  }
 ],
 "metadata": {
  "kernelspec": {
   "display_name": "Python [conda env:base] *",
   "language": "python",
   "name": "conda-base-py"
  },
  "language_info": {
   "codemirror_mode": {
    "name": "ipython",
    "version": 3
   },
   "file_extension": ".py",
   "mimetype": "text/x-python",
   "name": "python",
   "nbconvert_exporter": "python",
   "pygments_lexer": "ipython3",
   "version": "3.12.7"
  }
 },
 "nbformat": 4,
 "nbformat_minor": 5
}
