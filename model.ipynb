{
 "cells": [
  {
   "cell_type": "code",
   "execution_count": null,
   "id": "56006570-18af-48ad-889d-58442d23089a",
   "metadata": {},
   "outputs": [
    {
     "name": "stdout",
     "output_type": "stream",
     "text": [
      "  price_mentioned food_mentioned service_mentioned cleanliness_mentioned  \\\n",
      "0              no             no                no                    no   \n",
      "1              no             no                no                    no   \n",
      "2              no            yes                no                    no   \n",
      "3              no             no               yes                   yes   \n",
      "4              no             no                no                    no   \n",
      "\n",
      "   star_rating  \n",
      "0          5.0  \n",
      "1          5.0  \n",
      "2          5.0  \n",
      "3          5.0  \n",
      "4          4.0  \n",
      "Parsed 230 reviews for this business.\n"
     ]
    }
   ],
   "source": [
    "import numpy as np\n",
    "\n",
    "# Use keyword heuristics to define latent variables (instead of LDA)\n",
    "import json\n",
    "import pandas as pd\n",
    "\n",
    "PRICE_KEYWORDS = {\"expensive\", \"pricey\", \"affordable\", \"overpriced\", \"prices\"}\n",
    "FOOD_KEYWORDS = {\"food\", \"dish\", \"meal\", \"taste\", \"flavor\", \"portion\", \"menu\", \"delicious\"}\n",
    "SERVICE_KEYWORDS = {\"waiter\", \"waitress\", \"staff\", \"rude\", \"slow\", \"friendly\", \"host\", \"service\"}\n",
    "CLEANLINESS_KEYWORDS = {\"clean\", \"dirty\", \"bathroom\", \"restroom\", \"table\", \"floor\", \"smell\"}\n",
    "\n",
    "def contains_keywords(text, keyword_set, min_hits=2):\n",
    "    # returns True if text contains enough words within keyword_set\n",
    "    text_lower = text.lower()\n",
    "    return sum(1 for kw in keyword_set if kw in text_lower) >= min_hits\n",
    "\n",
    "def extract_features(review_json):\n",
    "    # preps review for panda dataframe\n",
    "    text = review_json[\"text\"]\n",
    "    return {\n",
    "        \"price_mentioned\": \"yes\" if contains_keywords(text, PRICE_KEYWORDS) else \"no\",\n",
    "        \"food_mentioned\": \"yes\" if contains_keywords(text, FOOD_KEYWORDS) else \"no\",\n",
    "        \"service_mentioned\": \"yes\" if contains_keywords(text, SERVICE_KEYWORDS) else \"no\",\n",
    "        \"cleanliness_mentioned\": \"yes\" if contains_keywords(text, CLEANLINESS_KEYWORDS) else \"no\",\n",
    "        \"star_rating\": float(review_json[\"stars\"])\n",
    "    }\n",
    "\n",
    "def get_business_id(business_name, business_json_path=\"data/yelp_academic_dataset_business.json\"):\n",
    "    # Retrieves serial business ID and returns it\n",
    "    with open(business_json_path, \"r\", encoding=\"utf-8\") as f:\n",
    "        for line in f:\n",
    "            biz = json.loads(line)\n",
    "            if biz[\"name\"].lower() == business_name.lower():\n",
    "                return biz[\"business_id\"]\n",
    "    raise ValueError(f\"Business '{business_name}' not found in dataset.\")\n",
    "\n",
    "def load_reviews_df(business_name, reviews_path=\"sample_reviews.json\", business_path=\"data/yelp_academic_dataset_business.json\"):\n",
    "    # Extracts all relevant reviews from business name parameter and consolidates it all into a panda dataframe\n",
    "    business_id = get_business_id(business_name, business_path)\n",
    "\n",
    "    reviews = []\n",
    "    with open(reviews_path, \"r\", encoding=\"utf-8\") as f:\n",
    "        for line in f:\n",
    "            review = json.loads(line)\n",
    "            if review[\"business_id\"] == business_id:\n",
    "                reviews.append(extract_features(review))\n",
    "\n",
    "    return pd.DataFrame(reviews)\n",
    "\n",
    "def display_sample():\n",
    "    with open(\"sample_reviews.json\", \"r\", encoding=\"utf-8\") as f:\n",
    "        reviews = [json.loads(line) for line in f]  # fallback for line-delimited\n",
    "\n",
    "    sample_biz_ids = {r[\"business_id\"] for r in reviews}\n",
    "    found_names = []\n",
    "\n",
    "    with open(\"data/yelp_academic_dataset_business.json\", \"r\", encoding=\"utf-8\") as f:\n",
    "        for line in f:\n",
    "            biz = json.loads(line)\n",
    "            if biz[\"business_id\"] in sample_biz_ids:\n",
    "                found_names.append((biz[\"name\"], biz[\"city\"], biz[\"state\"]))\n",
    "\n",
    "    for name, city, state in sorted(found_names):\n",
    "        print(f\"- {name} — {city}, {state}\")\n",
    "\n",
    "\n",
    "#display_sample()   \n",
    "# Use load_reviews to create pandas dataframe for model training.\n",
    "df = load_reviews_df(\"In-N-Out Burger\", \"data/yelp_academic_dataset_review.json\")\n",
    "print(df.head())\n",
    "print(f\"Parsed {len(df)} reviews for this business.\")"
   ]
  },
  {
   "cell_type": "code",
   "execution_count": null,
   "id": "1abc7691-f80f-4e1f-a26e-1319512f7b96",
   "metadata": {},
   "outputs": [],
   "source": [
    "# Use Bayes-Net model to determine variable with highest delta (makes the difference for review)"
   ]
  }
 ],
 "metadata": {
  "kernelspec": {
   "display_name": "base",
   "language": "python",
   "name": "python3"
  },
  "language_info": {
   "codemirror_mode": {
    "name": "ipython",
    "version": 3
   },
   "file_extension": ".py",
   "mimetype": "text/x-python",
   "name": "python",
   "nbconvert_exporter": "python",
   "pygments_lexer": "ipython3",
   "version": "3.12.7"
  }
 },
 "nbformat": 4,
 "nbformat_minor": 5
}
